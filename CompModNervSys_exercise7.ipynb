{
  "cells": [
    {
      "attachments": {},
      "cell_type": "markdown",
      "metadata": {
        "colab_type": "text",
        "id": "view-in-github"
      },
      "source": [
        "<a href=\"https://colab.research.google.com/github/CompModNervSystem/CompModNervSys-HH2/blob/main/CompModNervSys_exercise7.ipynb\" target=\"_parent\"><img src=\"https://colab.research.google.com/assets/colab-badge.svg\" alt=\"Open In Colab\"/></a>"
      ]
    },
    {
      "attachments": {},
      "cell_type": "markdown",
      "metadata": {
        "id": "tSawaquoIBf9"
      },
      "source": [
        "# BIOL 74.03 (SP23): Computational Modeling of the Nervous System \n",
        "# Exercise 7: Simulating the Hodgkin-Huxley model in NEURON - Part II\n",
        "\n",
        "### Exercise goals\n",
        "\n",
        "1) Understand the time course of conductances and gating variables during the action potential in the HH model\n",
        "\n",
        "2) Understand origin of absolute and relative refractory periods\n",
        "\n",
        "3) Analyze firing behavior of neurons with the HH model with step currents\n",
        "\n",
        "\n",
        "Work through the code below, running each cell, adding code where required, and making sure you understand the output. When you see questions with <span style=\"color:red\">***Q:*** </span> preceding them, write your responses in text cells. \n"
      ]
    },
    {
      "attachments": {},
      "cell_type": "markdown",
      "metadata": {},
      "source": [
        "We'll first install neuron like last time"
      ]
    },
    {
      "cell_type": "code",
      "execution_count": null,
      "metadata": {},
      "outputs": [],
      "source": [
        "%pip install neuron # only need to run this cell once to install \n",
        "                    # neuron in the local jupyter environment\n",
        "\n",
        "%pip install Ipython --upgrade # update IPython to allow reloading modules below"
      ]
    },
    {
      "attachments": {},
      "cell_type": "markdown",
      "metadata": {},
      "source": [
        "Import the packages we'll be using"
      ]
    },
    {
      "cell_type": "code",
      "execution_count": null,
      "metadata": {},
      "outputs": [],
      "source": [
        "from neuron import h # all NEURON hoc functions are accessed through h\n",
        "# from neuron import gui # if you're running this notebook in a local environment (instead of on google colab), launches the GUI\n",
        "h.load_file('stdrun.hoc') # loads neuron standard hoc library, not always necessary \n",
        "import numpy as np\n",
        "import matplotlib.pyplot as plt\n",
        "from plotly.subplots import make_subplots\n",
        "import plotly.graph_objects as go"
      ]
    },
    {
      "attachments": {},
      "cell_type": "markdown",
      "metadata": {},
      "source": [
        "## Ionic mechanisms of the HH action potential\n",
        "\n",
        "We'll start out with the same model we created in the exercise 6 of a space clamped axon with the Hodgkin-Huxley sodium, potassium, and leak conductances:\n",
        "\n",
        "For our geometry, we'll again use a diameter of $500 \\; \\mu m$ and length of $100 \\; \\mu m$. Since the axon is space clamped, we can set `nseg` (the number of segments) to 1. Then, we just insert our biophysical mechanisms, which is the built in `hh` model in this case. Inserting the `hh` model adds all three conductances from the HH model: `gNa` for sodium conductance, `gK` for potassium conductance, and `gl` for the passive leak conductance (all in $S/cm^{2}$). Finally, we set up recording and simulation instrumentation. We'll use a current clamp so we can inject current and allow the voltage to evolve and generate action potentials (APs). And this time, we'll record all the underlying state variables of the model to better understand the underlying mechanism of the AP. \n",
        "\n",
        "Fill in the missing code below based on the instructions above."
      ]
    },
    {
      "cell_type": "code",
      "execution_count": null,
      "metadata": {},
      "outputs": [],
      "source": [
        "axon = h.Section(name='axon')\n",
        "# Model geometry\n",
        "axon.diam =  # diameter in microns\n",
        "axon.L =  # length in microns\n",
        "axon.nseg =  # sets number of segments\n",
        "# Model biophysics\n",
        "axon.insert('hh') \n",
        "# Model instrumentstion\n",
        "# Stimulation\n",
        "iclamp = h.IClamp(axon(0.5)) # add\n",
        "# Recordings\n",
        "t_vec = h.Vector() # time vector\n",
        "t_vec.record(h._ref_t)\n",
        "V_vec = h.Vector() # intracellular voltage (same as membrane potential in our case)\n",
        "V_vec.record(axon(0.5)._ref_v)\n",
        "# ** Currents **\n",
        "Iclamp_vec = h.Vector() # current clamp current (nA)\n",
        "Iclamp_vec.record(iclamp._ref_i)\n",
        "Ina_vec = h.Vector() # sodium current (mA/cm2)\n",
        "Ina_vec.record(axon(0.5)._ref_ina)\n",
        "Ik_vec = h.Vector() # potassium current (mA/cm2)\n",
        "Ik_vec.record(axon(0.5)._ref_ik)\n",
        "# ** Conductances **\n",
        "gna_vec = h.Vector() # sodium conductance (S/cm2)\n",
        "gna_vec.record(axon(0.5)._ref_gna_hh) # note the 'hh' suffix, required by neuron to specify which mechanism this conductance belongs to\n",
        "gk_vec = h.Vector() # potassium conductance (S/cm2)\n",
        "gk_vec.record(axon(0.5)._ref_gk_hh)\n",
        "# ** Gating variables **\n",
        "n_vec = h.Vector() # potassium activation gate (0-1)\n",
        "n_vec.record(axon(0.5)._ref_n_hh)\n",
        "m_vec = h.Vector() # sodium activation gate\n",
        "m_vec.record(axon(0.5)._ref_m_hh) \n",
        "h_vec = h.Vector() # sodium inactivation gate\n",
        "h_vec.record(axon(0.5)._ref_h_hh)"
      ]
    },
    {
      "attachments": {},
      "cell_type": "markdown",
      "metadata": {},
      "source": [
        "Now to run our simulation, we need to choose our initial condition and simulation settings. \n",
        "We'll first simulate an action potential due to a brief current pulse. Use an initial voltage (`h.v_init`) of $-65 \\; mV$, time step of $0.0125 \\; ms$, temperature (`h.celsius`) of $6.3^{\\circ} C$, and duration (`h.tstop`) of $8 \\; ms$. \n",
        "\n",
        "Since we didn't set it above, we also need to specify our current stimulus. Use a $2 \\; ms$ current pulse that starts at $1 \\; ms$ and has an amplitude of $20 \\; nA$. \n",
        "\n",
        "Start by plotting the membrane potential $V_{m}$ vs. time using whatever plotting package you prefer (`matplotlib` may be easiest, you can copy the format used in previous exercises)."
      ]
    },
    {
      "cell_type": "code",
      "execution_count": null,
      "metadata": {},
      "outputs": [],
      "source": [
        "# Current clamp settings\n",
        "iclamp.delay = # ms\n",
        "iclamp.dur =  # ms\n",
        "iclamp.amp = # nA\n",
        "\n",
        "# Simulation settings\n",
        "h.v_init =  # mV - initial voltage of the model system \n",
        "h.dt =   # ms - time step\n",
        "h.celsius = # degrees celsius - temperature of simulation, set to room temperature\n",
        "h.tstop =  # ms - simulation duration\n",
        "\n",
        "# Run\n",
        "h.run()\n",
        "\n",
        "# Your plotting code goes here\n"
      ]
    },
    {
      "attachments": {},
      "cell_type": "markdown",
      "metadata": {},
      "source": [
        "You should see an action potential. \n",
        "\n",
        "<span style=\"color:red\">***Q1***: Approximately what voltage does the AP reach at its upper and lower extremes? What parameters do you think control these values?</span>"
      ]
    },
    {
      "cell_type": "markdown",
      "metadata": {},
      "source": []
    },
    {
      "attachments": {},
      "cell_type": "markdown",
      "metadata": {},
      "source": [
        "Let's first look at how the ionic currents vary during the action potential. We'll focus on the main culprits, the sodium and potassium currents for now and ignore the leak current since it wouldn't change the story much anyway. Run the code block below to instantiate a function to plot the voltage with the sodium and potassium currents overlaid on a second set of axes. "
      ]
    },
    {
      "cell_type": "code",
      "execution_count": null,
      "metadata": {},
      "outputs": [],
      "source": [
        "def plotV_and_Is(t_vec,V_vec,Ina_vec,Ik_vec,title=None):\n",
        "    # t_vec - time vector (can be NEURON Vector or numpy array) (ms)\n",
        "    # V_vec - membrane potential vector (can be NEURON Vector or numpy array) (mV)    \n",
        "    # Ina_vec - sodium current density vector (can be NEURON Vector or numpy array) (mA/cm2)\n",
        "    # Ik_vec - potassium current density vector (can be NEURON Vector or numpy array) (mA/cm2)\n",
        "    if isinstance(Ina_vec,type(h)):\n",
        "        Ina_vec = Ina_vec.to_python(np.zeros(len(Ina_vec)))\n",
        "    if isinstance(Ik_vec,type(h)):\n",
        "        Ik_vec = Ik_vec.to_python(np.zeros(len(Ik_vec)))\n",
        "    \n",
        "    Iion_vec = Ina_vec + Ik_vec # ionic current (excluding leak)\n",
        "    fig = make_subplots(specs=[[{\"secondary_y\": True}]])\n",
        "    fig.add_trace(go.Scatter(x=t_vec,y=V_vec,name='Vm',line=dict(color='rgb(0,0,0)')),secondary_y = False)\n",
        "    fig.update_layout(yaxis = dict(range=[-80,50]))\n",
        "    fig.add_trace(go.Scatter(x=t_vec,y=Iion_vec,name='Ina+Ik'),secondary_y = True)\n",
        "    fig.add_trace(go.Scatter(x=t_vec,y=Ina_vec,name='Ina'),secondary_y = True)\n",
        "    fig.add_trace(go.Scatter(x=t_vec,y=Ik_vec,name='Ik'),secondary_y = True)\n",
        "    fig['layout']['xaxis']['title']='time (ms)'\n",
        "    fig.update_yaxes(title_text=\"Vm (mV)\", secondary_y=False)\n",
        "    fig.update_yaxes(title_text=\"Current density (mA/cm2)\", secondary_y=True)    \n",
        "    if title is not None:\n",
        "        fig.update_layout(title=title)    \n",
        "    fig.show()    "
      ]
    },
    {
      "attachments": {},
      "cell_type": "markdown",
      "metadata": {},
      "source": [
        "Using `plotV_and_Is`, plot the action potential with the ionic currents overlaid. You may want to copy and paste your current clamp and simulation settings below in case you'd like to change settings and replot in a single code cell. "
      ]
    },
    {
      "cell_type": "code",
      "execution_count": null,
      "metadata": {},
      "outputs": [],
      "source": [
        "# Current clamp settings\n",
        "\n",
        "\n",
        "# Simulation settings\n",
        "\n",
        "\n",
        "# Run\n",
        "h.run()\n",
        "\n",
        "# Call plotV_and_Is here\n",
        "plotV_and_Is(t_vec,V_vec,Ina_vec,Ik_vec);"
      ]
    },
    {
      "attachments": {},
      "cell_type": "markdown",
      "metadata": {},
      "source": [
        "<span style=\"color:red\">***Q2:***  Describe how the sodium and potassium currents evolve during the action potential. In your answer, you should discuss how the direction of each current is linked to its effect on the voltage (depolarizing or repolarizing).\n",
        "</span>"
      ]
    },
    {
      "cell_type": "markdown",
      "metadata": {},
      "source": []
    },
    {
      "attachments": {},
      "cell_type": "markdown",
      "metadata": {},
      "source": [
        "With the leaky-integrate and fire neuron model, we defined a fixed membrane potential (the *voltage threshold*) at which an AP fired. Let's see how well this approximates the behavior of the HH model. In the same coding block above, vary the amplitude and duration of the current stimulus and plot the membrane potential with the currents overlaid to help you answer the following questions:\n",
        "\n",
        "<span style=\"color:red\">***Q3:***  Is the voltage at which the AP initiates fixed for all durations? What needs to happen to the net current for an AP to initiate? \n",
        "</span>"
      ]
    },
    {
      "cell_type": "markdown",
      "metadata": {},
      "source": []
    },
    {
      "attachments": {},
      "cell_type": "markdown",
      "metadata": {},
      "source": [
        "Now, let's look at how the conductances vary during the action potential. Run the code block below to instantiate a function that will generate an interactive plot overlaying the voltage, total conductance, sodium conductance, and potassium conductance. As input, it takes the time vector `t_vec`, membrane potential vector `V_vec`, sodium conductance vector `gna_vec`, potassium conductance vector `gk_vec`, and the value of the leak conductance `gl_val`, which can be obtained with `axon(0.5).gl_hh`. "
      ]
    },
    {
      "cell_type": "code",
      "execution_count": null,
      "metadata": {},
      "outputs": [],
      "source": [
        "def plotV_and_gs(t_vec,V_vec,gna_vec,gk_vec,gl_val,title=None):\n",
        "    # t_vec - time vector (can be NEURON Vector or numpy array) (ms)\n",
        "    # V_vec - membrane potential vector (can be NEURON Vector or numpy array) (mV)\n",
        "    # gna_vec - sodium conductance vector (expects NEURON Vector) (S/cm2)\n",
        "    # gk_vec - potassium conductance vector (expects NEURON Vector) (S/cm2)\n",
        "    # gl_val - value of leak conductance (S/cm2)\n",
        "    gna_vec = gna_vec.to_python(np.zeros(len(gna_vec)))    \n",
        "    gk_vec = gk_vec.to_python(np.zeros(len(gk_vec)))\n",
        "    g_vec = (gna_vec + gk_vec + gl_val)\n",
        "    fig = make_subplots(specs=[[{\"secondary_y\": True}]])\n",
        "    fig.add_trace(go.Scatter(x=t_vec,y=V_vec,name='Vm',line=dict(color='rgb(0,0,0)')),secondary_y = False)\n",
        "    fig.update_layout(yaxis = dict(range=[-80,50]))\n",
        "    fig.add_trace(go.Scatter(x=t_vec,y=g_vec,name='g/gmax'),secondary_y = True)\n",
        "    fig.add_trace(go.Scatter(x=t_vec,y=gna_vec,name='gNa/gNa_max'),secondary_y = True)\n",
        "    fig.add_trace(go.Scatter(x=t_vec,y=gk_vec,name='gK/gK_max'),secondary_y = True)\n",
        "    fig['layout']['xaxis']['title']='time (ms)'\n",
        "    fig.update_yaxes(title_text=\"Vm (mV)\", secondary_y=False)\n",
        "    fig.update_yaxes(title_text=\"g (normalized to max)\", secondary_y=True)\n",
        "    fig.show()\n",
        "    if title is not None:\n",
        "        fig.update_layout(title=title)        "
      ]
    },
    {
      "attachments": {},
      "cell_type": "markdown",
      "metadata": {},
      "source": [
        "<span style=\"color:red\">***Q4:*** After inspecting the function, what was the leak conductance used for? And, why did we not record a vector of leak conductance over time? </span> "
      ]
    },
    {
      "cell_type": "markdown",
      "metadata": {},
      "source": []
    },
    {
      "attachments": {},
      "cell_type": "markdown",
      "metadata": {},
      "source": [
        "Below, use `plotV_and_gs` to plot the action potential with the conductances now overlaid. Use the same simulation parameters as above."
      ]
    },
    {
      "cell_type": "code",
      "execution_count": null,
      "metadata": {},
      "outputs": [],
      "source": [
        "# Current clamp settings\n",
        "\n",
        "# Simulation settings\n",
        "\n",
        "# Run\n",
        "h.run()\n",
        "\n",
        "# Add function arguments to plotV_and_gs\n",
        "plotV_and_gs();"
      ]
    },
    {
      "attachments": {},
      "cell_type": "markdown",
      "metadata": {},
      "source": [
        "Hopefully you see something like what we showed in class! The sodium conductance rises rapidly and starts to shut off (inactivate) near the peak of the action potential. Meanwhile the potassium conductance rises more slowly and doesn't start to decay until the membrane potential is almost back to its resting value. \n",
        "\n",
        "Finally, let's see how the gating variables evolve during the action potential. Run the code cell below to instantiuate the `plotV_and_gates` function, which plots the potassium activation gate $n$, sodium activation gate $m$, and sodium inactivation gate $h$ overlaid with the action potential."
      ]
    },
    {
      "cell_type": "code",
      "execution_count": null,
      "metadata": {},
      "outputs": [],
      "source": [
        "def plotV_and_gates(t_vec,V_vec,n_vec,m_vec,h_vec,title=None):\n",
        "    # t_vec - time vector (can be NEURON Vector or numpy array) (ms)\n",
        "    # V_vec - membrane potential vector (can be NEURON Vector or numpy array) (mV)\n",
        "    # n_vec - potassium activation gating variable (can be NEURON Vector or numpy array)\n",
        "    # m_vec - sodium activation gating variable (can be NEURON Vector or numpy array)\n",
        "    # h_vec - sodium inactivation gating variable (can be NEURON Vector or numpy array)\n",
        "\n",
        "    fig = make_subplots(specs=[[{\"secondary_y\": True}]])\n",
        "    fig.add_trace(go.Scatter(x=t_vec,y=V_vec,name='Vm',line=dict(color='rgb(0,0,0)')),secondary_y = False)\n",
        "    fig.update_layout(yaxis = dict(range=[-80,50]))\n",
        "    fig.add_trace(go.Scatter(x=t_vec,y=n_vec,name='n'),secondary_y = True)\n",
        "    fig.add_trace(go.Scatter(x=t_vec,y=m_vec,name='m'),secondary_y = True)\n",
        "    fig.add_trace(go.Scatter(x=t_vec,y=h_vec,name='h'),secondary_y = True)\n",
        "    fig['layout']['xaxis']['title']='time (ms)'\n",
        "    fig.update_yaxes(title_text=\"Vm (mV)\", secondary_y=False)\n",
        "    fig.update_yaxes(title_text=\"State\", secondary_y=True)\n",
        "    fig.update_layout(yaxis2 = dict(range=[0,1]))\n",
        "    if title is not None:\n",
        "        fig.update_layout(title=title)    \n",
        "    fig.show()    "
      ]
    },
    {
      "attachments": {},
      "cell_type": "markdown",
      "metadata": {},
      "source": [
        "Below, use `plotV_and_gates` to plot the action potential with the gating variables now overlaid. Use the same simulation parameters as above."
      ]
    },
    {
      "cell_type": "code",
      "execution_count": null,
      "metadata": {},
      "outputs": [],
      "source": [
        "# Current clamp settings\n",
        "\n",
        "\n",
        "# Simulation settings\n",
        "\n",
        "# Run\n",
        "h.run()\n",
        "\n"
      ]
    },
    {
      "attachments": {},
      "cell_type": "markdown",
      "metadata": {},
      "source": [
        "<span style=\"color:red\">***Q5:*** Describe how the n, m, and h gates evolve, starting from when the axon is at rest, through the depolarization by the current pulse, and during the rising, falling, and after potential phases. Make sure to mention how these variables relate to the sodium and potassium conductances (see lecture slides if necessary)</span> "
      ]
    },
    {
      "cell_type": "markdown",
      "metadata": {},
      "source": []
    },
    {
      "attachments": {},
      "cell_type": "markdown",
      "metadata": {},
      "source": [
        "Now let's try manipulating the conductances and seeing how it affects the action potential. \n",
        "\n",
        "Tetrodotoxin (TTX) is a toxin naturally produced by the pufferfish that selectively blocks voltage-gated sodium channels. Simulate the addition of TTX by setting `gnabar_hh` to 0 and plot using your `plotV_and_gates` function to see how the gating variables are affected. "
      ]
    },
    {
      "cell_type": "code",
      "execution_count": null,
      "metadata": {},
      "outputs": [],
      "source": [
        "# Current clamp settings\n",
        "\n",
        "# Simulation settings\n",
        "\n",
        "gnabar_hh_init = 0.12 # initial value of peak sodium conductance\n",
        "# Alter peak sodium conductance here\n",
        "\n",
        "\n",
        "# Run\n",
        "h.run()\n",
        "\n",
        "plotV_and_gates(t_vec,V_vec,n_vec,m_vec,h_vec);\n",
        "\n",
        "# reset peak sodium conductance here\n"
      ]
    },
    {
      "attachments": {},
      "cell_type": "markdown",
      "metadata": {},
      "source": [
        "<span style=\"color:red\">***Q6:*** Did the axon fire an action potential? Why or why not? If you're stuck, it may help to use the earlier functions to plot the conductances and currents overlaid with the AP as well. </span> "
      ]
    },
    {
      "attachments": {},
      "cell_type": "markdown",
      "metadata": {},
      "source": [
        "Tetraethylammonium (TEA) selectively blocks voltage-gated potassium channels. Simulate the addition of TEA by setting `gkbar_hh` to 0 and replot the AP with the gating variables overlaid using `plotV_and_gates`. Make sure your simulation's duration (`h.tstop`) is long enough to capture the full action potential."
      ]
    },
    {
      "cell_type": "code",
      "execution_count": null,
      "metadata": {},
      "outputs": [],
      "source": [
        "# Current clamp settings\n",
        "\n",
        "\n",
        "# Simulation settings\n",
        "\n",
        "gkbar_hh_init = 0.036 # initial value of peak sodium conductance\n",
        "# Alter sodium conductance here\n",
        "\n",
        "# Run\n",
        "h.run()\n",
        "\n",
        "plotV_and_gates(t_vec,V_vec,n_vec,m_vec,h_vec)\n",
        "\n",
        "# reset peak potassium conductance here\n"
      ]
    },
    {
      "attachments": {},
      "cell_type": "markdown",
      "metadata": {},
      "source": [
        "<span style=\"color:red\">***Q7:*** What happens to the action potential shape? Explain why this occurs, making reference to the conductances and currents. </span> "
      ]
    },
    {
      "cell_type": "markdown",
      "metadata": {},
      "source": []
    },
    {
      "attachments": {},
      "cell_type": "markdown",
      "metadata": {},
      "source": [
        "<span style=\"color:red\">***Q8:*** What happens when you turn the current clamp amplitude (`iclamp.amp`) to zero? </span>"
      ]
    },
    {
      "cell_type": "markdown",
      "metadata": {},
      "source": []
    },
    {
      "attachments": {},
      "cell_type": "markdown",
      "metadata": {},
      "source": [
        "At this point, we've taken a close look at the different components of the Hodgkin-Huxley model for a single action potential, including the ionic currents, conductances, and the gating variables for the voltage-gated sodium and potassium ion channels. Hopefully you can appreciate the complexity of the model and richness of dynamics, which we've only sampled a bit here. \n",
        "\n",
        "Next, we'll take a look at some of the key phenomena predicted by the Hodgkin-Huxley model."
      ]
    },
    {
      "attachments": {},
      "cell_type": "markdown",
      "metadata": {},
      "source": [
        "## Understanding the absolute and relative refractory period\n",
        "\n",
        "As you may recall from the [leaky integrate and fire neuron exercise](https://github.com/CompModNervSystem/CompModNervSys-LIFneuron), after firing an action potential, neurons enter a *refractory period*. This refers to a period in which it becomes difficult to evoke additional action potentials. The existence of the refractory period limits the number of action potentials a neuron can fire in a given time period (the firing rate). In the LIF model, we set the refractory period explicitly. But in the Hodgkin-Huxley model, the refractory period emerges from the dynamics of the ion channel conductances, one of the many impressively accurate predictions of this model. \n",
        "\n",
        "After an action potential, the refractory period can actually be broken into two periods, an *absolute refractory period* in which no stimulus of any magnitude can evoke a second action potential, and a *relative refractory period*, in which a stimulus of a larger magnitude is required to evoke a second action potential. \n",
        "\n",
        "Below, we'll measure these refractory periods and understand how they relate to the voltage-gated sodium channel's dynamics.\n",
        "\n"
      ]
    },
    {
      "attachments": {},
      "cell_type": "markdown",
      "metadata": {},
      "source": [
        "We'll start by recreating the same model, in case any of the code blocks above were changed without reverting the axon back to its original parameters. This time, we'll create a second current clamp (`iclamp2`) so we can deliver two stimuli in succession."
      ]
    },
    {
      "cell_type": "code",
      "execution_count": null,
      "metadata": {},
      "outputs": [],
      "source": [
        "%load_ext autoreload\n",
        "%autoreload 2\n",
        "from neuron import h\n",
        "axon = h.Section(name='axon')\n",
        "# Model geometry\n",
        "axon.diam = 500 # diameter in microns\n",
        "axon.L = 100 # length in microns\n",
        "axon.nseg = 1 # sets number of segments to 1\n",
        "# Model biophysics\n",
        "axon.insert('hh') \n",
        "# Model instrumentstion\n",
        "# Stimulation\n",
        "iclamp = h.IClamp(axon(0.5)) # add\n",
        "iclamp2 = h.IClamp(axon(0.5)) # add second current clamp\n",
        "# Recordings\n",
        "t_vec = h.Vector() # time vector\n",
        "t_vec.record(h._ref_t)\n",
        "V_vec = h.Vector() # intracellular voltage (same as membrane potential in our case)\n",
        "V_vec.record(axon(0.5)._ref_v)\n",
        "# ** Currents **\n",
        "Iclamp_vec = h.Vector() # current clamp current (nA)\n",
        "Iclamp_vec.record(iclamp._ref_i)\n",
        "Ina_vec = h.Vector() # sodium current (mA/cm2)\n",
        "Ina_vec.record(axon(0.5)._ref_ina)\n",
        "Ik_vec = h.Vector() # potassium current (mA/cm2)\n",
        "Ik_vec.record(axon(0.5)._ref_ik)\n",
        "# ** Conductances **\n",
        "gna_vec = h.Vector() # sodium conductance (S/cm2)\n",
        "gna_vec.record(axon(0.5)._ref_gna_hh) # note the 'hh' suffix, required by neuron to specify which mechanism this conductance belongs to\n",
        "gk_vec = h.Vector() # potassium conductance (S/cm2)\n",
        "gk_vec.record(axon(0.5)._ref_gk_hh)\n",
        "# ** Gating variables **\n",
        "n_vec = h.Vector() # potassium activation gate (0-1)\n",
        "n_vec.record(axon(0.5)._ref_n_hh)\n",
        "m_vec = h.Vector() # sodium activation gate\n",
        "m_vec.record(axon(0.5)._ref_m_hh) \n",
        "h_vec = h.Vector() # sodium inactivation gate\n",
        "h_vec.record(axon(0.5)._ref_h_hh)"
      ]
    },
    {
      "attachments": {},
      "cell_type": "markdown",
      "metadata": {},
      "source": [
        "For the first current clamp, apply a $1 \\; ms$ pulse starting at $2 \\; ms$ with a $20 \\; nA$ amplitude. For the second current clamp, apply pulse starting at $20 \\; ms$  with the same duration and amplitude. Plot using whichever one of the plotting functions we wrote above that you find helpful to answer the questions below. Make sure your simulation duration (`h.tstop`) is long enough to capture the response to both pulses."
      ]
    },
    {
      "cell_type": "code",
      "execution_count": null,
      "metadata": {},
      "outputs": [],
      "source": [
        "# Current clamp settings\n",
        "iclamp.delay =  # ms\n",
        "iclamp.dur =  # ms\n",
        "iclamp.amp =  # nA\n",
        "\n",
        "iclamp2.delay =  # ms\n",
        "iclamp2.dur =  # ms\n",
        "iclamp2.amp =  # nA\n",
        "\n",
        "# Simulation settings\n",
        "h.v_init = -65 # mV - initial voltage of the model system \n",
        "h.dt = 0.0125  # ms - time step\n",
        "h.celsius = 6.3 # degrees celsius - temperature of simulation, set to room temperature\n",
        "h.tstop =  # ms - simulation duration\n",
        "\n",
        "# Run\n",
        "h.run()\n",
        "\n",
        "# Plot\n",
        "# Add plotting function here\n"
      ]
    },
    {
      "attachments": {},
      "cell_type": "markdown",
      "metadata": {},
      "source": [
        "You should see two action potentials. Let's make sure we understand what we see. \n",
        "\n",
        "<span style=\"color:red\">***Q9:*** What happens to the membrane potential $V_{m}$ and the $h$ gating variable between the end of the first action potential and the start of the second?</span>"
      ]
    },
    {
      "cell_type": "markdown",
      "metadata": {},
      "source": []
    },
    {
      "attachments": {},
      "cell_type": "markdown",
      "metadata": {},
      "source": [
        "Now, we'd like to know how the minimum strength necessary to elicit an action potential (*current threshold*) varies as we change the interval between the two pulses, also known as the *interstimulus interval* (ISI). \n",
        "\n",
        "To do this, we'll need two additional tools. First, we need a way of determining if an action potential occurred. And second, we need a way of automatically varying the stimulus amplitude to find the threshold. We could of course do this by hand, modifying the amplitude, replotting, deciding if an action potential happened or not until we're satisfied we found the threshold. Then we'd jot it down and repeat for every ISI. That sounds like torture to me, so let's not do that. \n",
        "\n",
        "Luckily, NEURON has a built in way of detecting thresholds, which we can define as the time at which the voltage crosses some value, say $0 \\; mV$, in the positive direction. Part of the definition of an action potential is that it propagates along an axon, but since we only have a single compartment here, we have no propagation, making this a bit ambiguous. So instead, we'll just stick with the first, simple criteria. We'll use an object in NEURON called a `NetCon` (documentatoin [here](https://www.neuron.yale.edu/neuron/static/py_doc/modelspec/programmatic/network/netcon.html#NetCon)). This object is normally used to connect two neurons in a network by monitoring the first neuron so that when it fires, we send a signal to the second neuron to simulate a synaptic input. Another use for it is to just monitor one neuron's membrane potential and keep track of everytime it fired. We can record the spike times with another NEURON `Vector`. "
      ]
    },
    {
      "cell_type": "code",
      "execution_count": null,
      "metadata": {},
      "outputs": [],
      "source": [
        "netcon = h.NetCon(axon(0.5)._ref_v,None) # Use NetCon to monitor axon voltage \n",
        "netcon.threshold = 0 # set threshold to detect AP\n",
        "# Record spike times\n",
        "spike_times = h.Vector()\n",
        "netcon.record(spike_times) # pass the spiketimes vector to the record method of the netcon object we just created"
      ]
    },
    {
      "attachments": {},
      "cell_type": "markdown",
      "metadata": {},
      "source": [
        "Let's test that this is working by adding a point everytime we're supposed to have a spike time. (Don't forget to run the cell above). Try adjusting the delay of the second iclamp to make sure the spike time points show up where we expect.  "
      ]
    },
    {
      "cell_type": "code",
      "execution_count": null,
      "metadata": {},
      "outputs": [],
      "source": [
        "# Current clamp settings\n",
        "iclamp.delay = 1 # ms\n",
        "iclamp.dur = 1 # ms\n",
        "iclamp.amp = 20 # nA\n",
        "\n",
        "iclamp2.delay = 20 # ms\n",
        "iclamp2.dur = 1 # ms\n",
        "iclamp2.amp = 20 # nA\n",
        "\n",
        "# Simulation settings\n",
        "h.v_init = -65 # mV - initial voltage of the model system \n",
        "h.dt = 0.0125  # ms - time step\n",
        "h.celsius = 6.3 # degrees celsius - temperature of simulation, set to room temperature\n",
        "h.tstop = 40 # ms - simulation duration\n",
        "\n",
        "# Run\n",
        "h.run()\n",
        "\n",
        "# Plot\n",
        "fig = make_subplots(specs=[[{\"secondary_y\": True}]])\n",
        "fig.add_trace(go.Scatter(x=t_vec,y=V_vec,name='Vm',line=dict(color='rgb(0,0,0)')),secondary_y = False)\n",
        "fig['layout']['xaxis']['title']='time (ms)'\n",
        "fig.update_yaxes(title_text=\"Vm (mV)\", secondary_y=False)\n",
        "fig.add_trace(go.Scatter(x=spike_times,y=50*np.ones(len(spike_times)),\n",
        "                         name='Spike times',mode='markers',marker=go.scatter.Marker(color='red')),secondary_y = False)"
      ]
    },
    {
      "attachments": {},
      "cell_type": "markdown",
      "metadata": {},
      "source": [
        "Nice, now we have a method of detecting APs. Now we need a function to find the threshold stimulus intensity to elicit an AP. \n",
        "\n",
        "We can do this by adapting a search algorithm commonly used in computer science/engineering called the *binary search algorithm* (also referred to as the *bisection method* by some). It works by first defining an interval, in our case, the minimum ($I_{min}$) and maximum ($I_{max}$) possible current amplitude we think our threshold falls between. We then apply an intensity halfway between our window ($I$). If the cell fires, we now define this amplitude $I$ as the upper range of our search window ($I_{max} = I$), keeping the previous lower range of the window. We then repeat the procedure by stimulating at the intensity halfway between the new window ($\\frac{I_{min} + I_{max}}{2}$). In contrast, if the cell does not fire, we define this amplitude as the lower range of our search window ($I_{min} = I$) and do the same thing. We repeat this procedure until our window is smaller than some criteria we decide, let's say some fraction of our window range. \n",
        "\n",
        "The `find_threshold` function below implements this for you. It relies on one additional function, `ap_fired`, which runs a simulation and returns a 1 if the requested number of APs occurred (which allows us to require 2 action potentials for our scenario), or a 0 otherwise. Run the code cell below to instantiate these functions."
      ]
    },
    {
      "cell_type": "code",
      "execution_count": null,
      "metadata": {},
      "outputs": [],
      "source": [
        "import timeit # used to avoid infinite loop below\n",
        "\n",
        "def ap_fired(spike_times,num_aps=0):\n",
        "    # takes as input spike_times vector and num_amps\n",
        "    # default value of num_aps is 0, otherwise allows setting to different value\n",
        "    h.run()\n",
        "    return len(spike_times) > num_aps\n",
        "\n",
        "def find_threshold(iclamp,spike_times,num_aps=0,low=0.1,high=300,thresh_err=0.02,max_time=30,print_out=False):\n",
        "    # iclamp - Current clamp object to vary amplitude of\n",
        "    # spike_times - NEURON Vector of spike times \n",
        "    # num_aps - Number of APs to require to consider above threshold\n",
        "    # low - starting lower bound of earch\n",
        "    # high - starting upper bound of earch\n",
        "    # thresh_err - criteria to end search, relative window size (high-low)/low\n",
        "    # print_out - True or False, use for troubleshooting, prints out status during search\n",
        "    start_time = timeit.default_timer()\n",
        "    \n",
        "    # fig = make_subplots(specs=[[{\"secondary_y\": True}]])    # for troubleshooting\n",
        "    # fig['layout']['xaxis']['title']='time (ms)'\n",
        "    # fig.update_yaxes(title_text=\"Vm (mV)\", secondary_y=False)\n",
        "    \n",
        "    if iclamp.amp == 0:\n",
        "        iclamp.amp = 1 # make sure > 0\n",
        "    # First course search\n",
        "    while ((low == 0.1 or high == 300) and (timeit.default_timer() - start_time < max_time)):\n",
        "        if (ap_fired(spike_times,num_aps)):\n",
        "            high = iclamp.amp\n",
        "            iclamp.amp = high/2\n",
        "        else:\n",
        "            low = iclamp.amp\n",
        "            iclamp.amp = 2*low\n",
        "        if print_out:\n",
        "            print('Coarse: Amp = {}, high = {}, low = {}'.format(iclamp.amp,high,low))\n",
        "        if (low > high):\n",
        "            print('Search terminated early, threshold above upper limit {} nA'.format(high))\n",
        "            return high\n",
        "    # At this point, high value is not more than 2 x the threshold and low is not less than half the threshold\n",
        "    # Finer search, narrow bounds of threshold window\n",
        "    while ( abs(high/low - 1) > thresh_err ):\n",
        "        if print_out:\n",
        "            print('Window size = {} %%'.format(100*abs(high/low - 1)))\n",
        "        if (ap_fired(spike_times,num_aps)):\n",
        "            high = iclamp.amp\n",
        "            if print_out:\n",
        "                print('Fired {} nA'.format(iclamp.amp))\n",
        "        else:\n",
        "            if print_out:\n",
        "                print('No AP {} nA'.format(iclamp.amp))\n",
        "            low = iclamp.amp\n",
        "        iclamp.amp = (high+low)/2\n",
        "        if print_out:\n",
        "            print('Fine: Amp = {}, high = {}, low = {}'.format(iclamp.amp,high,low))\n",
        "        # fig.add_trace(go.Scatter(x=t_vec,y=V_vec,name='Vm',line=dict(color='rgb(0,0,0)')),secondary_y = False)        \n",
        "        # fig.show() \n",
        "    print('Threshold to elicit > {} APs = {:.1f} nA ({:.1f} %% error)'.format(num_aps,iclamp.amp,thresh_err*100))\n",
        "    return high # returns upper range of window to ensure amplitude is above threshold "
      ]
    },
    {
      "attachments": {},
      "cell_type": "markdown",
      "metadata": {},
      "source": [
        "Use `find_threshold` below to find the threshold to elicit 2 APs with the same stimulus parameters as above. "
      ]
    },
    {
      "cell_type": "code",
      "execution_count": null,
      "metadata": {},
      "outputs": [],
      "source": [
        "# Current clamp settings\n",
        "iclamp.delay = 1 # ms\n",
        "iclamp.dur = 1 # ms\n",
        "iclamp.amp = 20 # nA\n",
        "\n",
        "iclamp2.delay = 20 # ms\n",
        "iclamp2.dur = 1 # ms\n",
        "iclamp2.amp = 20 # nA\n",
        "\n",
        "# Simulation settings\n",
        "h.v_init = -65 # mV - initial voltage of the model system \n",
        "h.dt = 0.0125  # ms - time step\n",
        "h.celsius = 6.3 # degrees celsius - temperature of simulation, set to room temperature\n",
        "h.tstop = 40 # ms - simulation duration\n",
        "\n",
        "# Call find_threshold here"
      ]
    },
    {
      "attachments": {},
      "cell_type": "markdown",
      "metadata": {},
      "source": [
        "You should get a threshold of about $9.1 \\; nA$ with 2% error. \n",
        "\n",
        "Once you've verified the function is working, write a loop below to find the threshold over a range of interstimulus intervals from $4 \\; ms$ to $20 \\; ms$. In this case, a $4 \\; ms$ ISI means the second stimulus starts $4 \\; ms$ after the start of the first stimulus (or $2 \\; ms$ after the end of the first stimulus since it lasts $2 \\; ms$).\n",
        "\n",
        "Then, plot the threshold in $nA$ on the y-axis vs. the interstimulus interval in $ms$ on the x-axis. "
      ]
    },
    {
      "cell_type": "code",
      "execution_count": null,
      "metadata": {},
      "outputs": [],
      "source": [
        "ISI_vec = np.arange(2,20,1) # ISI values (ms)\n",
        "Ith_vec = [] # Threshold current values (nA)\n",
        "\n",
        "# Get thresholds\n",
        "for isi in ISI_vec:\n",
        "    iclamp2.delay = iclamp.delay + isi\n",
        "    Ith_vec.append(find_threshold(iclamp2,spike_times,num_aps=1))\n",
        "\n",
        "Ith_vec = np.array(Ith_vec)\n",
        "\n",
        "# Plot threshold vs. ISI\n",
        "fig = make_subplots(specs=[[{\"secondary_y\": True}]])\n",
        "fig.add_trace(go.Scatter(x=ISI_vec,y=Ith_vec,showlegend=False,line=dict(color='rgb(0,0,0)')),secondary_y = False)\n",
        "fig['layout']['xaxis']['title']='ISI (ms)'\n",
        "fig.update_yaxes(title_text=\"Ith (nA)\", secondary_y=False)\n",
        "fig.show();"
      ]
    },
    {
      "attachments": {},
      "cell_type": "markdown",
      "metadata": {},
      "source": [
        "Use the coding cell below to plot the response at a few ISIs, defined by the `plot_ISI` vector. Try setting `iclamp2.amp` to different threshold amplitudes from your Threshold vs. ISI plot above, particularly the short ISIs (<6 ms) with high thresholds. "
      ]
    },
    {
      "cell_type": "code",
      "execution_count": null,
      "metadata": {},
      "outputs": [],
      "source": [
        "# Plot traces for examples\n",
        "# plot_ISI is index of ISIs to plot\n",
        "plot_ISI = [3,7,10] # plot these ISIs in ISI_vec, modify to whichever indices you want to plot, i.e. 3 plots ISI_vec[3] (the fourth ISI)\n",
        "for pi in plot_ISI:\n",
        "    iclamp2.delay = iclamp.delay + ISI_vec[pi]\n",
        "    iclamp2.amp = 20\n",
        "    h.run()\n",
        "    fig = plotV_and_gates(t_vec,V_vec,n_vec,m_vec,h_vec,\n",
        "                          title='I = {:.1f} nA. ISI = {} ms, threshold = {:.1f} nA'.format(iclamp2.amp,ISI_vec[pi],Ith_vec[pi]));           "
      ]
    },
    {
      "attachments": {},
      "cell_type": "markdown",
      "metadata": {},
      "source": [
        "Now using the threshold vs. ISI plot and the recordings at 3 ISIs above, try answering the following questions:\n",
        "\n",
        "<span style=\"color:red\">***Q10:*** Can you identify the absolute vs. relative refractory periods? Hint: when looking at the lower range of ISIs, remember we set an upper bound for our `find_threshold` function.</span>"
      ]
    },
    {
      "cell_type": "markdown",
      "metadata": {},
      "source": []
    },
    {
      "attachments": {},
      "cell_type": "markdown",
      "metadata": {},
      "source": [
        "<span style=\"color:red\">***Q11:*** In the activity traces, what do you notice is different about the `h` gating variable in the cases where the second AP successfully fires vs. the cases when it doesn't?</span>"
      ]
    },
    {
      "cell_type": "markdown",
      "metadata": {},
      "source": []
    },
    {
      "attachments": {},
      "cell_type": "markdown",
      "metadata": {},
      "source": [
        "## Analyzing firing behavior of the HH model \n",
        "\n",
        "Now let's analyze two aspects of the firing behavior exhibited by the HH model. \n",
        "\n",
        "First, in [Exercise 5](https://github.com/CompModNervSystem/CompModNervSys-LIFneuron), we plotted the frequency-input curve for the leaky integrate and fire neuron to characterize its excitability. The excitability of a neuron is critical for determining how it transforms inputs and generates outputs. Let's do the same here using the `spike_times` vector we created to track the number of action potentials fired in a simulation. \n",
        "\n",
        "Below, we plot the membrane potential vs. time for a few example currents amplitudes and then plot the F–I curve for a wider range of current amplitudes.\n",
        "\n",
        "Let's start by again reinitalizing the model and instrumentation."
      ]
    },
    {
      "cell_type": "code",
      "execution_count": null,
      "metadata": {},
      "outputs": [],
      "source": [
        "# Reinitalize neuron model\n",
        "%load_ext autoreload\n",
        "%autoreload 2\n",
        "from neuron import h\n",
        "axon = h.Section(name='axon')\n",
        "# Model geometry\n",
        "axon.diam = 500 # diameter in microns\n",
        "axon.L = 100 # length in microns\n",
        "axon.nseg = 1 # sets number of segments to 1\n",
        "# Model biophysics\n",
        "axon.insert('hh') \n",
        "# Model instrumentstion\n",
        "# Stimulation\n",
        "iclamp = h.IClamp(axon(0.5)) # add\n",
        "# Recordings\n",
        "t_vec = h.Vector() # time vector\n",
        "t_vec.record(h._ref_t)\n",
        "V_vec = h.Vector() # intracellular voltage (same as membrane potential in our case)\n",
        "V_vec.record(axon(0.5)._ref_v)\n",
        "# ** Gating variables ** (we'll use these one more time below)\n",
        "n_vec = h.Vector() # potassium activation gate (0-1)\n",
        "n_vec.record(axon(0.5)._ref_n_hh)\n",
        "m_vec = h.Vector() # sodium activation gate\n",
        "m_vec.record(axon(0.5)._ref_m_hh) \n",
        "h_vec = h.Vector() # sodium inactivation gate\n",
        "h_vec.record(axon(0.5)._ref_h_hh)\n",
        "netcon = h.NetCon(axon(0.5)._ref_v,None) # Use NetCon to monitor axon voltage \n",
        "netcon.threshold = 0 # set threshold to detect AP\n",
        "# Record spike times\n",
        "spike_times = h.Vector()\n",
        "netcon.record(spike_times) # pass the spiketimes vector to the record method of the netcon object we just created\n"
      ]
    },
    {
      "attachments": {},
      "cell_type": "markdown",
      "metadata": {},
      "source": [
        "Now let's apply a constant current stimulus at amplitudes of $5 \\; nA$, $10 \\; nA$, and $20 \\; nA$ and plot."
      ]
    },
    {
      "cell_type": "code",
      "execution_count": null,
      "metadata": {},
      "outputs": [],
      "source": [
        "amp_vec = [] # enter current amplitudes here\n",
        "# Current clamp settings\n",
        "iclamp.delay = 1 # ms\n",
        "iclamp.dur = 100 # ms\n",
        "\n",
        "# Simulation settings\n",
        "h.v_init = -65 # mV - initial voltage of the model system \n",
        "h.dt = 0.0125  # ms - time step\n",
        "h.celsius = 6.3 # degrees celsius - temperature of simulation, set to room temperature\n",
        "h.tstop = 100 # ms - simulation duration\n",
        "\n",
        "V_vec_all = []\n",
        "for amp in amp_vec:\n",
        "    iclamp.amp = amp # nA\n",
        "    # Run\n",
        "    h.run()\n",
        "    V_vec_all.append(V_vec.to_python(np.zeros(len(V_vec))))  # save voltage vector for this simulation\n",
        "\n",
        "\n",
        "# Plot\n",
        "fig = make_subplots(rows=len(amp_vec),cols=1)    \n",
        "for i, V_veci in enumerate(V_vec_all):    \n",
        "    fig.add_trace(go.Scatter(x=t_vec,y=V_veci,name='I = {} nA'.format(amp_vec[i])),row=i+1,col=1)     \n",
        "    \n",
        "fig.update_layout(yaxis = dict(range=[-80,50]))\n",
        "fig['layout']['xaxis{}'.format(len(amp_vec))]['title']='time (ms)'     \n",
        "fig.show()   \n"
      ]
    },
    {
      "attachments": {},
      "cell_type": "markdown",
      "metadata": {},
      "source": [
        "You should see an increasing number of action potentials from the lowest to highest current amplitude. \n",
        "\n",
        "<span style=\"color:red\">***Q12***: Based on the 100 ms we simulated above, what is the firing frequency in $Hz$ for each current intensity? What happens to the action potential shapes if you increase the highest current amplitude to $90 \\; nA$ or more?\n",
        "</span>"
      ]
    },
    {
      "cell_type": "markdown",
      "metadata": {},
      "source": []
    },
    {
      "attachments": {},
      "cell_type": "markdown",
      "metadata": {},
      "source": [
        "Now let's run these simulations for a wide range of currents and extract the frequency automatically. Generate a vector of $100$ current amplitudes from $0$ to $90 \\; nA$ and add plot to complete the code below."
      ]
    },
    {
      "cell_type": "code",
      "execution_count": null,
      "metadata": {},
      "outputs": [],
      "source": [
        "amp_vec = # create vector here\n",
        "\n",
        "# Current clamp settings\n",
        "iclamp.delay = 1 # ms\n",
        "iclamp.dur = 100 # ms\n",
        "\n",
        "# Simulation settings\n",
        "h.v_init = -65 # mV - initial voltage of the model system \n",
        "h.dt = 0.0125  # ms - time step\n",
        "h.celsius = 6.3 # degrees celsius - temperature of simulation, set to room temperature\n",
        "h.tstop = 100 # ms - simulation duration\n",
        "\n",
        "F_vec = []\n",
        "for amp in amp_vec:\n",
        "    iclamp.amp = amp # nA\n",
        "    # Run\n",
        "    h.run()\n",
        "    Fi =  # number of spikes divided by length of simulation in sec\n",
        "    F_vec.append(Fi)    \n",
        "\n",
        "\n",
        "# Plotting code goes here\n",
        "\n",
        "\n",
        "axon(0.5).gnabar_hh = 0.12 # reset to default values\n",
        "axon(0.5).gkbar_hh = 0.036 # reset to default values"
      ]
    },
    {
      "attachments": {},
      "cell_type": "markdown",
      "metadata": {},
      "source": [
        "<span style=\"color:red\">***Q13***: In the code block above, try adjusting the sodium (`axon(0.5).gnabar_hh`) and potassium peak conductances (`axon(0.5).gkbar_hh`) and regenerating the FI curve (it may help to overlay these curves on the same plot, but not required). How does increasing sodium peak conductance (while holding potassium's constant) alter the F-I curve? How does increasing potassium peak conductance (while holding sodium's constant) alter the F-I curve?\n",
        "</span>"
      ]
    },
    {
      "cell_type": "markdown",
      "metadata": {},
      "source": []
    },
    {
      "attachments": {},
      "cell_type": "markdown",
      "metadata": {},
      "source": [
        "Finally, an interesting and initially counterintuitive prediction of the HH model that is also observed in real neurons is the fact that hyperpolarizing currents can actually evoke action potentials. \n",
        "\n",
        "Below, set the current clamp to apply a $-5 \\; nA$ current pulse lasting $10 \\; ms$ that starts at $1 \\; ms$. Then, use `plotV_and_gates` to visualize the membrane potential and gating variables. "
      ]
    },
    {
      "cell_type": "code",
      "execution_count": null,
      "metadata": {},
      "outputs": [],
      "source": [
        "# Stimulation settings (iclamp)\n",
        "\n",
        "# Simulation settings\n",
        "h.v_init = -65 # mV - initial voltage of the model system \n",
        "h.tstop =  # ms - simulation duration\n",
        "\n",
        "# Run\n",
        "h.run()\n",
        "# Plot\n",
        "# Add plotting function here"
      ]
    },
    {
      "attachments": {},
      "cell_type": "markdown",
      "metadata": {},
      "source": [
        "<span style=\"color:red\">***Q14***: How can this phenomenon be explained in terms of the $h$ gates kinetics? Hint: Look at the difference in time constants between $\\tau_{m}$ and $\\tau_{h}$ in the lecture slides/readings. This is a challenging question, but do your best!\n",
        "</span>"
      ]
    },
    {
      "cell_type": "markdown",
      "metadata": {},
      "source": []
    },
    {
      "attachments": {},
      "cell_type": "markdown",
      "metadata": {},
      "source": [
        "# Reflections\n",
        "\n",
        "We've only sampled a few behaviors that emerge out of the complex, nonlinear interactions of membrane voltage and ionic currents within the Hodgkin-Huxley model; these behaviors predicted real aspects of neuronal excitability, all based on voltage clamp experiments in the squid giant axon. For example, from this exploration, it should be clear the AP threshold and likelihood of firing depends on the *history* of activity, rather than being defined by a fixed value. Neuronal firing properties (AP thresholds, F–I curves, refractory periods, response to hyperpolarization, etc.) vary widely between neurons depending on the assortment of voltage-gated ion channels they possess and their morphology, among other factors. Voltage-gated ion channels exhibit massive variety in composition, localization, gating kinetics, intracellular distribution, which can themselves be regulated dynamically by other intracellular processes. This diversity allows the nervous system to tune the excitability of individual neurons depending on the needs of the neural circuit in which they are embedded and the function that circuit performs. The exact mechanisms by which they are regulated and the emergent behaviors generated by specific combinations of ion channels found in neurons still constitutes a major area of inquiry within neuroscience research today. The basic theoretical tools and experimental methods have advanced significantly from the days of Hodgkin and Huxley, but these advances all build on the fundamental discoveries they made over 70 years ago."
      ]
    }
  ],
  "metadata": {
    "colab": {
      "include_colab_link": true,
      "provenance": [],
      "toc_visible": true
    },
    "kernelspec": {
      "display_name": "cmns_env",
      "language": "python",
      "name": "python3"
    },
    "language_info": {
      "codemirror_mode": {
        "name": "ipython",
        "version": 3
      },
      "file_extension": ".py",
      "mimetype": "text/x-python",
      "name": "python",
      "nbconvert_exporter": "python",
      "pygments_lexer": "ipython3",
      "version": "3.9.16"
    },
    "vscode": {
      "interpreter": {
        "hash": "d0488761690764cced0e7b1e141a742f06ea2f3fa8f54952eb1b54a94bfd6a2a"
      }
    }
  },
  "nbformat": 4,
  "nbformat_minor": 0
}
